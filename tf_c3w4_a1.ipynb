{
  "nbformat": 4,
  "nbformat_minor": 0,
  "metadata": {
    "colab": {
      "name": "tf_c3w4_a1.ipynb",
      "provenance": [],
      "authorship_tag": "ABX9TyMdfmDoJp94EMvBoZfFiELJ",
      "include_colab_link": true
    },
    "kernelspec": {
      "name": "python3",
      "display_name": "Python 3"
    },
    "language_info": {
      "name": "python"
    }
  },
  "cells": [
    {
      "cell_type": "markdown",
      "metadata": {
        "id": "view-in-github",
        "colab_type": "text"
      },
      "source": [
        "<a href=\"https://colab.research.google.com/github/Loga19818eeanvesh/Natural_Language_Processing_Sequence_Models_Assignments/blob/main/tf_c3w4_a1.ipynb\" target=\"_parent\"><img src=\"https://colab.research.google.com/assets/colab-badge.svg\" alt=\"Open In Colab\"/></a>"
      ]
    },
    {
      "cell_type": "code",
      "execution_count": 1,
      "metadata": {
        "id": "3wa-l5uQb4-K"
      },
      "outputs": [],
      "source": [
        "from tensorflow.keras.preprocessing.sequence import pad_sequences\n",
        "from tensorflow.keras.layers import Embedding, LSTM, Dense, Dropout, Bidirectional\n",
        "from tensorflow.keras.preprocessing.text import Tokenizer\n",
        "from tensorflow.keras.models import Sequential\n",
        "from tensorflow.keras.optimizers import Adam\n",
        "### YOUR CODE HERE\n",
        "# Figure out how to import regularizers\n",
        "###\n",
        "import tensorflow.keras.utils as ku \n",
        "import numpy as np "
      ]
    },
    {
      "cell_type": "code",
      "source": [
        "# sonnets.txt\n",
        "!gdown --id 108jAePKK4R3BVYBbYJZ32JWUwxeMg20K\n"
      ],
      "metadata": {
        "colab": {
          "base_uri": "https://localhost:8080/"
        },
        "id": "b4wHbpMUcLmB",
        "outputId": "91db9020-3ff2-45da-8e81-cb98cf4a8b29"
      },
      "execution_count": 2,
      "outputs": [
        {
          "output_type": "stream",
          "name": "stdout",
          "text": [
            "Downloading...\n",
            "From: https://drive.google.com/uc?id=108jAePKK4R3BVYBbYJZ32JWUwxeMg20K\n",
            "To: /content/sonnets.txt\n",
            "\r  0% 0.00/93.6k [00:00<?, ?B/s]\r100% 93.6k/93.6k [00:00<00:00, 43.5MB/s]\n"
          ]
        }
      ]
    },
    {
      "cell_type": "code",
      "source": [
        "tokenizer = Tokenizer(oov_token = \"UNK\")\n",
        "data = open('/content/sonnets.txt').read()\n",
        "#print(data)\n",
        "corpus = data.lower().split('\\n')\n",
        "#print(corpus)\n",
        "tokenizer.fit_on_texts(corpus)\n",
        "vocab_len = len(tokenizer.word_index)+1\n",
        "\n",
        "input_sequences = []\n",
        "for line in corpus:\n",
        "\ttoken_list = tokenizer.texts_to_sequences([line])[0]\n",
        "\tfor i in range(1, len(token_list)):\n",
        "\t\tn_gram_sequence = token_list[:i+1]\n",
        "\t\tinput_sequences.append(n_gram_sequence)\n",
        "\n",
        "max_sequence_length = max(len(x) for x in input_sequences)\n",
        "#print(max_sequence_length)\n",
        "\n",
        "padded_sequences = pad_sequences(input_sequences,padding='pre')\n",
        "\n",
        "training_sequences = np.array(padded_sequences[:,:-1])\n",
        "training_labels = np.array(padded_sequences[:,-1])"
      ],
      "metadata": {
        "id": "gg2WQ8LAcYEU"
      },
      "execution_count": 10,
      "outputs": []
    },
    {
      "cell_type": "code",
      "source": [
        "model = Sequential()\n",
        "model.add(Embedding(vocab_len, 64 , input_length=max_sequence_length-1))\n",
        "model.add(Bidirectional(LSTM(32)))\n",
        "model.add(Dense(vocab_len, activation='softmax'))\n",
        "model.compile(loss='sparse_categorical_crossentropy', optimizer='adam', metrics=['accuracy'])\n",
        "model.summary()"
      ],
      "metadata": {
        "colab": {
          "base_uri": "https://localhost:8080/"
        },
        "id": "fQCgfNpnflGS",
        "outputId": "d160e637-a248-49e2-b996-d2e16d072003"
      },
      "execution_count": 19,
      "outputs": [
        {
          "output_type": "stream",
          "name": "stdout",
          "text": [
            "Model: \"sequential_4\"\n",
            "_________________________________________________________________\n",
            " Layer (type)                Output Shape              Param #   \n",
            "=================================================================\n",
            " embedding_2 (Embedding)     (None, 10, 64)            205568    \n",
            "                                                                 \n",
            " bidirectional_2 (Bidirectio  (None, 64)               24832     \n",
            " nal)                                                            \n",
            "                                                                 \n",
            " dense_2 (Dense)             (None, 3212)              208780    \n",
            "                                                                 \n",
            "=================================================================\n",
            "Total params: 439,180\n",
            "Trainable params: 439,180\n",
            "Non-trainable params: 0\n",
            "_________________________________________________________________\n"
          ]
        }
      ]
    },
    {
      "cell_type": "code",
      "source": [
        "history = model.fit(training_sequences, training_labels, epochs=50, verbose=1)"
      ],
      "metadata": {
        "colab": {
          "base_uri": "https://localhost:8080/"
        },
        "id": "_isOOCSyhbpJ",
        "outputId": "cf549465-d1fd-402b-c079-b90b1753a6c3"
      },
      "execution_count": 22,
      "outputs": [
        {
          "output_type": "stream",
          "name": "stdout",
          "text": [
            "Epoch 1/50\n",
            "484/484 [==============================] - 9s 19ms/step - loss: 5.3551 - accuracy: 0.0806\n",
            "Epoch 2/50\n",
            "484/484 [==============================] - 9s 19ms/step - loss: 5.2378 - accuracy: 0.0863\n",
            "Epoch 3/50\n",
            "484/484 [==============================] - 9s 19ms/step - loss: 5.1277 - accuracy: 0.0928\n",
            "Epoch 4/50\n",
            "484/484 [==============================] - 9s 19ms/step - loss: 5.0187 - accuracy: 0.0982\n",
            "Epoch 5/50\n",
            "484/484 [==============================] - 9s 19ms/step - loss: 4.9130 - accuracy: 0.1066\n",
            "Epoch 6/50\n",
            "484/484 [==============================] - 9s 19ms/step - loss: 4.8105 - accuracy: 0.1096\n",
            "Epoch 7/50\n",
            "484/484 [==============================] - 9s 19ms/step - loss: 4.7082 - accuracy: 0.1203\n",
            "Epoch 8/50\n",
            "484/484 [==============================] - 9s 19ms/step - loss: 4.6115 - accuracy: 0.1266\n",
            "Epoch 9/50\n",
            "484/484 [==============================] - 11s 22ms/step - loss: 4.5084 - accuracy: 0.1378\n",
            "Epoch 10/50\n",
            "484/484 [==============================] - 9s 19ms/step - loss: 4.4198 - accuracy: 0.1473\n",
            "Epoch 11/50\n",
            "484/484 [==============================] - 9s 19ms/step - loss: 4.3213 - accuracy: 0.1594\n",
            "Epoch 12/50\n",
            "484/484 [==============================] - 9s 19ms/step - loss: 4.2281 - accuracy: 0.1701\n",
            "Epoch 13/50\n",
            "484/484 [==============================] - 9s 19ms/step - loss: 4.1389 - accuracy: 0.1817\n",
            "Epoch 14/50\n",
            "484/484 [==============================] - 10s 21ms/step - loss: 4.0463 - accuracy: 0.1929\n",
            "Epoch 15/50\n",
            "484/484 [==============================] - 9s 19ms/step - loss: 3.9599 - accuracy: 0.2107\n",
            "Epoch 16/50\n",
            "484/484 [==============================] - 10s 20ms/step - loss: 3.8739 - accuracy: 0.2212\n",
            "Epoch 17/50\n",
            "484/484 [==============================] - 9s 19ms/step - loss: 3.7879 - accuracy: 0.2365\n",
            "Epoch 18/50\n",
            "484/484 [==============================] - 9s 20ms/step - loss: 3.7060 - accuracy: 0.2534\n",
            "Epoch 19/50\n",
            "484/484 [==============================] - 10s 20ms/step - loss: 3.6220 - accuracy: 0.2702\n",
            "Epoch 20/50\n",
            "484/484 [==============================] - 9s 19ms/step - loss: 3.5473 - accuracy: 0.2843\n",
            "Epoch 21/50\n",
            "484/484 [==============================] - 11s 24ms/step - loss: 3.4712 - accuracy: 0.2967\n",
            "Epoch 22/50\n",
            "484/484 [==============================] - 10s 20ms/step - loss: 3.3942 - accuracy: 0.3124\n",
            "Epoch 23/50\n",
            "484/484 [==============================] - 10s 20ms/step - loss: 3.3273 - accuracy: 0.3236\n",
            "Epoch 24/50\n",
            "484/484 [==============================] - 10s 20ms/step - loss: 3.2621 - accuracy: 0.3388\n",
            "Epoch 25/50\n",
            "484/484 [==============================] - 10s 20ms/step - loss: 3.1924 - accuracy: 0.3498\n",
            "Epoch 26/50\n",
            "484/484 [==============================] - 10s 20ms/step - loss: 3.1242 - accuracy: 0.3582\n",
            "Epoch 27/50\n",
            "484/484 [==============================] - 10s 20ms/step - loss: 3.0770 - accuracy: 0.3694\n",
            "Epoch 28/50\n",
            "484/484 [==============================] - 13s 27ms/step - loss: 3.0074 - accuracy: 0.3798\n",
            "Epoch 29/50\n",
            "484/484 [==============================] - 13s 27ms/step - loss: 2.9511 - accuracy: 0.3924\n",
            "Epoch 30/50\n",
            "484/484 [==============================] - 10s 20ms/step - loss: 2.8887 - accuracy: 0.4039\n",
            "Epoch 31/50\n",
            "484/484 [==============================] - 10s 20ms/step - loss: 2.8396 - accuracy: 0.4109\n",
            "Epoch 32/50\n",
            "484/484 [==============================] - 10s 20ms/step - loss: 2.7875 - accuracy: 0.4248\n",
            "Epoch 33/50\n",
            "484/484 [==============================] - 10s 21ms/step - loss: 2.7322 - accuracy: 0.4324\n",
            "Epoch 34/50\n",
            "484/484 [==============================] - 10s 20ms/step - loss: 2.6866 - accuracy: 0.4415\n",
            "Epoch 35/50\n",
            "484/484 [==============================] - 10s 20ms/step - loss: 2.6339 - accuracy: 0.4513\n",
            "Epoch 36/50\n",
            "484/484 [==============================] - 10s 21ms/step - loss: 2.5892 - accuracy: 0.4597\n",
            "Epoch 37/50\n",
            "484/484 [==============================] - 9s 20ms/step - loss: 2.5404 - accuracy: 0.4713\n",
            "Epoch 38/50\n",
            "484/484 [==============================] - 10s 20ms/step - loss: 2.4964 - accuracy: 0.4750\n",
            "Epoch 39/50\n",
            "484/484 [==============================] - 9s 19ms/step - loss: 2.4540 - accuracy: 0.4852\n",
            "Epoch 40/50\n",
            "484/484 [==============================] - 10s 20ms/step - loss: 2.4116 - accuracy: 0.4942\n",
            "Epoch 41/50\n",
            "484/484 [==============================] - 10s 20ms/step - loss: 2.3707 - accuracy: 0.4988\n",
            "Epoch 42/50\n",
            "484/484 [==============================] - 10s 20ms/step - loss: 2.3230 - accuracy: 0.5131\n",
            "Epoch 43/50\n",
            "484/484 [==============================] - 10s 20ms/step - loss: 2.3043 - accuracy: 0.5129\n",
            "Epoch 44/50\n",
            "484/484 [==============================] - 9s 20ms/step - loss: 2.2459 - accuracy: 0.5245\n",
            "Epoch 45/50\n",
            "484/484 [==============================] - 10s 20ms/step - loss: 2.2172 - accuracy: 0.5297\n",
            "Epoch 46/50\n",
            "484/484 [==============================] - 9s 19ms/step - loss: 2.1788 - accuracy: 0.5402\n",
            "Epoch 47/50\n",
            "484/484 [==============================] - 10s 20ms/step - loss: 2.1440 - accuracy: 0.5464\n",
            "Epoch 48/50\n",
            "484/484 [==============================] - 10s 20ms/step - loss: 2.1011 - accuracy: 0.5554\n",
            "Epoch 49/50\n",
            "484/484 [==============================] - 9s 19ms/step - loss: 2.0734 - accuracy: 0.5605\n",
            "Epoch 50/50\n",
            "484/484 [==============================] - 9s 19ms/step - loss: 2.0382 - accuracy: 0.5702\n"
          ]
        }
      ]
    },
    {
      "cell_type": "code",
      "source": [
        "import matplotlib.pyplot as plt\n",
        "acc = history.history['accuracy']\n",
        "loss = history.history['loss']\n",
        "\n",
        "epochs = range(len(acc))\n",
        "\n",
        "plt.plot(epochs, acc, 'b', label='Training accuracy')\n",
        "plt.title('Training accuracy')\n",
        "\n",
        "plt.figure()\n",
        "\n",
        "plt.plot(epochs, loss, 'b', label='Training Loss')\n",
        "plt.title('Training loss')\n",
        "plt.legend()\n",
        "\n",
        "plt.show()"
      ],
      "metadata": {
        "colab": {
          "base_uri": "https://localhost:8080/",
          "height": 545
        },
        "id": "BCOd6UPjh9jF",
        "outputId": "e1bf3b86-8ca7-4035-a4cd-da2fcf196430"
      },
      "execution_count": 23,
      "outputs": [
        {
          "output_type": "display_data",
          "data": {
            "image/png": "[encoded data removed]",
            "text/plain": [
              "<Figure size 432x288 with 1 Axes>"
            ]
          },
          "metadata": {
            "needs_background": "light"
          }
        },
        {
          "output_type": "display_data",
          "data": {
            "image/png": "[encoded data removed]",
            "text/plain": [
              "<Figure size 432x288 with 1 Axes>"
            ]
          },
          "metadata": {
            "needs_background": "light"
          }
        }
      ]
    },
    {
      "cell_type": "code",
      "source": [
        "reverse_word_index = {}\n",
        "for word in tokenizer.word_index:\n",
        "  i = tokenizer.word_index[word]\n",
        "  reverse_word_index[i] = word\n",
        "\n",
        "seed_text = \"Help me Obi Wan Kenobi, you're my only hope\"\n",
        "next_words = 100\n",
        "for i in range(next_words):\n",
        "  token_list = tokenizer.texts_to_sequences(seed_text)\n",
        "  token_list = pad_sequences(token_list, maxlen=max_sequence_length-1, padding='pre', truncating='pre')\n",
        "  #print(len(token_list))\n",
        "  pred = model.predict(token_list , verbose=0)\n",
        "  #print(pred.shape)\n",
        "  pred = pred[-1, : ]\n",
        "  #print(pred.shape)\n",
        "  pred_class = np.argmax(pred)\n",
        "  print(pred_class)\n",
        "  seed_text = seed_text + \" \" + reverse_word_index[pred_class]\n",
        "\n",
        "\n",
        "print(seed_text)"
      ],
      "metadata": {
        "colab": {
          "base_uri": "https://localhost:8080/"
        },
        "id": "KUSb1riHh_n2",
        "outputId": "f51b60a1-e487-4cad-eb5a-3df426900f9d"
      },
      "execution_count": 41,
      "outputs": [
        {
          "output_type": "stream",
          "name": "stdout",
          "text": [
            "4\n",
            "72\n",
            "4\n",
            "72\n",
            "4\n",
            "72\n",
            "4\n",
            "72\n",
            "4\n",
            "72\n",
            "4\n",
            "72\n",
            "4\n",
            "72\n",
            "4\n",
            "72\n",
            "4\n",
            "72\n",
            "4\n",
            "72\n",
            "4\n",
            "72\n",
            "4\n",
            "72\n",
            "4\n",
            "72\n",
            "4\n",
            "72\n",
            "4\n",
            "72\n",
            "4\n",
            "72\n",
            "4\n",
            "72\n",
            "4\n",
            "72\n",
            "4\n",
            "72\n",
            "4\n",
            "72\n",
            "4\n",
            "72\n",
            "4\n",
            "72\n",
            "4\n",
            "72\n",
            "4\n",
            "72\n",
            "4\n",
            "72\n",
            "4\n",
            "72\n",
            "4\n",
            "72\n",
            "4\n",
            "72\n",
            "4\n",
            "72\n",
            "4\n",
            "72\n",
            "4\n",
            "72\n",
            "4\n",
            "72\n",
            "4\n",
            "72\n",
            "4\n",
            "72\n",
            "4\n",
            "72\n",
            "4\n",
            "72\n",
            "4\n",
            "72\n",
            "4\n",
            "72\n",
            "4\n",
            "72\n",
            "4\n",
            "72\n",
            "4\n",
            "72\n",
            "4\n",
            "72\n",
            "4\n",
            "72\n",
            "4\n",
            "72\n",
            "4\n",
            "72\n",
            "4\n",
            "72\n",
            "4\n",
            "72\n",
            "4\n",
            "72\n",
            "4\n",
            "72\n",
            "4\n",
            "72\n",
            "Help me Obi Wan Kenobi, you're my only hope to how to how to how to how to how to how to how to how to how to how to how to how to how to how to how to how to how to how to how to how to how to how to how to how to how to how to how to how to how to how to how to how to how to how to how to how to how to how to how to how to how to how to how to how to how to how to how to how to how to how\n"
          ]
        }
      ]
    }
  ]
}