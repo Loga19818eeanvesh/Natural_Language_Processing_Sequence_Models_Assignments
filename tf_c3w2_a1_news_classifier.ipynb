{
  "nbformat": 4,
  "nbformat_minor": 0,
  "metadata": {
    "colab": {
      "name": "tf_c3w2_a1_news_classifier.ipynb",
      "provenance": [],
      "authorship_tag": "ABX9TyPaydQnPzo+75PyUmeD0RhJ",
      "include_colab_link": true
    },
    "kernelspec": {
      "name": "python3",
      "display_name": "Python 3"
    },
    "language_info": {
      "name": "python"
    }
  },
  "cells": [
    {
      "cell_type": "markdown",
      "metadata": {
        "id": "view-in-github",
        "colab_type": "text"
      },
      "source": [
        "<a href=\"https://colab.research.google.com/github/Loga19818eeanvesh/Natural_Language_Processing_Sequence_Models_Assignments/blob/main/tf_c3w2_a1_news_classifier.ipynb\" target=\"_parent\"><img src=\"https://colab.research.google.com/assets/colab-badge.svg\" alt=\"Open In Colab\"/></a>"
      ]
    },
    {
      "cell_type": "code",
      "execution_count": 1,
      "metadata": {
        "colab": {
          "base_uri": "https://localhost:8080/"
        },
        "id": "EZIDdl36zUJj",
        "outputId": "332e01cd-6f47-467e-bfdb-6c9080f5e082"
      },
      "outputs": [
        {
          "output_type": "stream",
          "name": "stdout",
          "text": [
            "Downloading...\n",
            "From: https://drive.google.com/uc?id=1rX10xeI3eUJmOLsc4pOPY6AnCLO8DxNj\n",
            "To: /content/bbc-text.csv\n",
            "100% 5.06M/5.06M [00:00<00:00, 25.3MB/s]\n"
          ]
        }
      ],
      "source": [
        "import csv\n",
        "import tensorflow as tf\n",
        "import numpy as np\n",
        "from tensorflow.keras.preprocessing.text import Tokenizer\n",
        "from tensorflow.keras.preprocessing.sequence import pad_sequences\n",
        "\n",
        "# bbc-text.csv\n",
        "!gdown --id 1rX10xeI3eUJmOLsc4pOPY6AnCLO8DxNj"
      ]
    },
    {
      "cell_type": "code",
      "source": [
        "vocab_size = 10000\n",
        "embedding_dim = 64\n",
        "max_length = 128\n",
        "trunc_type = 'post'\n",
        "padding_type = 'post'\n",
        "oov_tok = '<UNK>'\n",
        "training_portion = .8\n"
      ],
      "metadata": {
        "id": "JwuXU2oS0xCM"
      },
      "execution_count": 2,
      "outputs": []
    },
    {
      "cell_type": "code",
      "source": [
        "sentences = []\n",
        "labels = []\n",
        "stopwords = [ \"a\", \"about\", \"above\", \"after\", \"again\", \"against\", \"all\", \"am\", \"an\", \"and\", \"any\", \"are\", \"as\", \"at\", \"be\", \"because\", \"been\", \"before\", \"being\", \"below\", \"between\", \"both\", \"but\", \"by\", \"could\", \"did\", \"do\", \"does\", \"doing\", \"down\", \"during\", \"each\", \"few\", \"for\", \"from\", \"further\", \"had\", \"has\", \"have\", \"having\", \"he\", \"he'd\", \"he'll\", \"he's\", \"her\", \"here\", \"here's\", \"hers\", \"herself\", \"him\", \"himself\", \"his\", \"how\", \"how's\", \"i\", \"i'd\", \"i'll\", \"i'm\", \"i've\", \"if\", \"in\", \"into\", \"is\", \"it\", \"it's\", \"its\", \"itself\", \"let's\", \"me\", \"more\", \"most\", \"my\", \"myself\", \"nor\", \"of\", \"on\", \"once\", \"only\", \"or\", \"other\", \"ought\", \"our\", \"ours\", \"ourselves\", \"out\", \"over\", \"own\", \"same\", \"she\", \"she'd\", \"she'll\", \"she's\", \"should\", \"so\", \"some\", \"such\", \"than\", \"that\", \"that's\", \"the\", \"their\", \"theirs\", \"them\", \"themselves\", \"then\", \"there\", \"there's\", \"these\", \"they\", \"they'd\", \"they'll\", \"they're\", \"they've\", \"this\", \"those\", \"through\", \"to\", \"too\", \"under\", \"until\", \"up\", \"very\", \"was\", \"we\", \"we'd\", \"we'll\", \"we're\", \"we've\", \"were\", \"what\", \"what's\", \"when\", \"when's\", \"where\", \"where's\", \"which\", \"while\", \"who\", \"who's\", \"whom\", \"why\", \"why's\", \"with\", \"would\", \"you\", \"you'd\", \"you'll\", \"you're\", \"you've\", \"your\", \"yours\", \"yourself\", \"yourselves\" ]\n",
        "print(len(stopwords))\n",
        "# Expected Output\n",
        "# 153"
      ],
      "metadata": {
        "colab": {
          "base_uri": "https://localhost:8080/"
        },
        "id": "orB7qzLV1DB1",
        "outputId": "09a53cf2-43d2-4b75-e827-9f1dadbe7eb1"
      },
      "execution_count": 3,
      "outputs": [
        {
          "output_type": "stream",
          "name": "stdout",
          "text": [
            "153\n"
          ]
        }
      ]
    },
    {
      "cell_type": "code",
      "source": [
        "with open(\"./bbc-text.csv\", 'r') as csvfile:\n",
        "    ### START CODE HERE\n",
        "    csvreader = csv.reader(csvfile)\n",
        "    next(csvreader)\n",
        "    for row in csvreader:\n",
        "      labels.append(row[0])\n",
        "      sentence = row[1]\n",
        "      for word in stopwords:\n",
        "        token = \" \"+word+\" \"\n",
        "        sentence = sentence.replace(token, \" \")\n",
        "      sentence = sentence.replace(\"  \", \" \")\n",
        "      sentences.append(sentence)\n",
        "    ### END CODE HERE\n",
        "\n",
        "    \n",
        "print(len(labels))\n",
        "print(len(sentences))\n",
        "print(sentences[0])"
      ],
      "metadata": {
        "colab": {
          "base_uri": "https://localhost:8080/"
        },
        "id": "c9D_S05Q1GwI",
        "outputId": "095eb17e-a5dd-4fe4-8d8a-acce9fecdca0"
      },
      "execution_count": 5,
      "outputs": [
        {
          "output_type": "stream",
          "name": "stdout",
          "text": [
            "2225\n",
            "2225\n",
            "tv future hands viewers home theatre systems plasma high-definition tvs digital video recorders moving living room way people watch tv will radically different five years time. according expert panel gathered annual consumer electronics show las vegas discuss new technologies will impact one favourite pastimes. us leading trend programmes content will delivered viewers via home networks cable satellite telecoms companies broadband service providers front rooms portable devices. one talked-about technologies ces digital personal video recorders (dvr pvr). set-top boxes like us s tivo uk s sky+ system allow people record store play pause forward wind tv programmes want. essentially technology allows much personalised tv. also built-in high-definition tv sets big business japan us slower take off europe lack high-definition programming. not can people forward wind adverts can also forget abiding network channel schedules putting together a-la-carte entertainment. us networks cable satellite companies worried means terms advertising revenues well brand identity viewer loyalty channels. although us leads technology moment also concern raised europe particularly growing uptake services like sky+. happens today will see nine months years time uk  adam hume bbc broadcast s futurologist told bbc news website. likes bbc no issues lost advertising revenue yet. pressing issue moment commercial uk broadcasters brand loyalty important everyone. will talking content brands rather network brands  said tim hanlon brand communications firm starcom mediavest. reality broadband connections anybody can producer content. added: challenge now hard promote programme much choice.  means said stacey jolna senior vice president tv guide tv group way people find content want watch simplified tv viewers. means networks us terms channels take leaf google s book search engine future instead scheduler help people find want watch. kind channel model might work younger ipod generation used taking control gadgets play them. might not suit everyone panel recognised. older generations comfortable familiar schedules channel brands know getting. perhaps not want much choice put hands mr hanlon suggested. end kids just diapers pushing buttons already - everything possible available  said mr hanlon. ultimately consumer will tell market want.  50 000 new gadgets technologies showcased ces many enhancing tv-watching experience. high-definition tv sets everywhere many new models lcd (liquid crystal display) tvs launched dvr capability built instead external boxes. one example launched show humax s 26-inch lcd tv 80-hour tivo dvr dvd recorder. one us s biggest satellite tv companies directtv even launched branded dvr show 100-hours recording capability instant replay search function. set can pause rewind tv 90 hours. microsoft chief bill gates announced pre-show keynote speech partnership tivo called tivotogo means people can play recorded programmes windows pcs mobile devices. reflect increasing trend freeing multimedia people can watch want want.\n"
          ]
        }
      ]
    },
    {
      "cell_type": "code",
      "source": [
        "train_size = int(training_portion*len(sentences))\n",
        "\n",
        "train_sentences = sentences[0:train_size]\n",
        "train_labels = labels[0:train_size]\n",
        "\n",
        "validation_sentences = sentences[train_size:len(sentences)]\n",
        "validation_labels = labels[train_size:len(sentences)]\n",
        "\n",
        "print(train_size)\n",
        "print(len(train_sentences))\n",
        "print(len(train_labels))\n",
        "print(len(validation_sentences))\n",
        "print(len(validation_labels))"
      ],
      "metadata": {
        "colab": {
          "base_uri": "https://localhost:8080/"
        },
        "id": "a88hRBBp2GWE",
        "outputId": "68bc115e-d992-4385-87ec-66ceb107a771"
      },
      "execution_count": 7,
      "outputs": [
        {
          "output_type": "stream",
          "name": "stdout",
          "text": [
            "1780\n",
            "1780\n",
            "1780\n",
            "445\n",
            "445\n"
          ]
        }
      ]
    },
    {
      "cell_type": "code",
      "source": [
        "tokenizer = Tokenizer(oov_token=oov_tok)\n",
        "tokenizer.fit_on_texts(train_sentences)\n",
        "word_index = tokenizer.word_index\n",
        "\n",
        "#\n",
        "vocab_size = len(word_index)+1\n",
        "#\n",
        "\n",
        "train_sequences = tokenizer.texts_to_sequences(train_sentences)\n",
        "train_padded = pad_sequences(train_sequences, padding=padding_type , maxlen=max_length,truncating=trunc_type)\n",
        "\n",
        "print(len(train_sequences[0]))\n",
        "print(len(train_padded[0]))\n",
        "\n",
        "print(len(train_sequences[1]))\n",
        "print(len(train_padded[1]))\n",
        "\n",
        "print(len(train_sequences[10]))\n",
        "print(len(train_padded[10]))\n"
      ],
      "metadata": {
        "colab": {
          "base_uri": "https://localhost:8080/"
        },
        "id": "1xyWtmy23CzL",
        "outputId": "660eff9a-b37b-4870-f939-d4c66917979f"
      },
      "execution_count": 21,
      "outputs": [
        {
          "output_type": "stream",
          "name": "stdout",
          "text": [
            "449\n",
            "128\n",
            "200\n",
            "128\n",
            "192\n",
            "128\n"
          ]
        }
      ]
    },
    {
      "cell_type": "code",
      "source": [
        "validation_sequences = tokenizer.texts_to_sequences(validation_sentences)\n",
        "validation_padded = pad_sequences(validation_sequences,padding=padding_type , maxlen=max_length,truncating=trunc_type)\n",
        "\n",
        "print(len(validation_sequences))\n",
        "print(validation_padded.shape)"
      ],
      "metadata": {
        "colab": {
          "base_uri": "https://localhost:8080/"
        },
        "id": "cJjFlA8g4gcv",
        "outputId": "f6f799cb-cbf1-479c-8fc0-ee7183a1a65e"
      },
      "execution_count": 9,
      "outputs": [
        {
          "output_type": "stream",
          "name": "stdout",
          "text": [
            "445\n",
            "(445, 128)\n"
          ]
        }
      ]
    },
    {
      "cell_type": "code",
      "source": [
        "from tensorflow.python.framework.dtypes import DType\n",
        "label_tokenizer = Tokenizer()\n",
        "label_tokenizer.fit_on_texts(train_labels)\n",
        "label_word_index = label_tokenizer.word_index\n",
        "\n",
        "no_of_labels = len(label_word_index)\n",
        "\n",
        "training_label_seq = np.array(label_tokenizer.texts_to_sequences(train_labels),dtype=int)\n",
        "validation_label_seq = np.array(label_tokenizer.texts_to_sequences(validation_labels),dtype=int)\n",
        "\n",
        "training_label_seq = [l-1 for l in training_label_seq]\n",
        "training_label_seq = np.array(training_label_seq)\n",
        "\n",
        "validation_label_seq = [l-1 for l in validation_label_seq]\n",
        "validation_label_seq = np.array(validation_label_seq)\n",
        "\n",
        "print(training_label_seq[0])\n",
        "print(training_label_seq[1])\n",
        "print(training_label_seq[2])\n",
        "print(training_label_seq.shape)\n",
        "\n",
        "print(validation_label_seq[0])\n",
        "print(validation_label_seq[1])\n",
        "print(validation_label_seq[2])\n",
        "print(validation_label_seq.shape)"
      ],
      "metadata": {
        "colab": {
          "base_uri": "https://localhost:8080/"
        },
        "id": "OLgB-V1Z49ss",
        "outputId": "9b6dc687-6861-4557-e0a4-5f8c34ca0e04"
      },
      "execution_count": 18,
      "outputs": [
        {
          "output_type": "stream",
          "name": "stdout",
          "text": [
            "[4]\n",
            "[1]\n",
            "[0]\n",
            "(1780, 1)\n",
            "[3]\n",
            "[4]\n",
            "[2]\n",
            "(445, 1)\n"
          ]
        }
      ]
    },
    {
      "cell_type": "code",
      "source": [
        "model = tf.keras.Sequential([\n",
        "# YOUR CODE HERE\n",
        "tf.keras.layers.Embedding(vocab_size, embedding_dim, input_length=max_length),\n",
        "    tf.keras.layers.GlobalAveragePooling1D(),\n",
        "    tf.keras.layers.Dense(64, activation='relu'),\n",
        "    tf.keras.layers.Dense(no_of_labels, activation='sigmoid')\n",
        "])\n",
        "model.compile(loss='sparse_categorical_crossentropy',optimizer='adam',metrics=['accuracy'])\n",
        "model.summary()"
      ],
      "metadata": {
        "colab": {
          "base_uri": "https://localhost:8080/"
        },
        "id": "HUsdto1G6Lx4",
        "outputId": "ddd46d4a-d4dd-4e3a-e22c-b47a05fc71ef"
      },
      "execution_count": 22,
      "outputs": [
        {
          "output_type": "stream",
          "name": "stdout",
          "text": [
            "Model: \"sequential_2\"\n",
            "_________________________________________________________________\n",
            " Layer (type)                Output Shape              Param #   \n",
            "=================================================================\n",
            " embedding_2 (Embedding)     (None, 128, 64)           1746304   \n",
            "                                                                 \n",
            " global_average_pooling1d_2   (None, 64)               0         \n",
            " (GlobalAveragePooling1D)                                        \n",
            "                                                                 \n",
            " dense_4 (Dense)             (None, 64)                4160      \n",
            "                                                                 \n",
            " dense_5 (Dense)             (None, 5)                 325       \n",
            "                                                                 \n",
            "=================================================================\n",
            "Total params: 1,750,789\n",
            "Trainable params: 1,750,789\n",
            "Non-trainable params: 0\n",
            "_________________________________________________________________\n"
          ]
        }
      ]
    },
    {
      "cell_type": "code",
      "source": [
        "num_epochs = 30\n",
        "history = model.fit(train_padded , training_label_seq, epochs=num_epochs, validation_data=(validation_padded, validation_label_seq))"
      ],
      "metadata": {
        "colab": {
          "base_uri": "https://localhost:8080/"
        },
        "id": "bpCNUgzy7GR-",
        "outputId": "b9019bab-5c1a-4f7b-eed3-0478578b671e"
      },
      "execution_count": 23,
      "outputs": [
        {
          "output_type": "stream",
          "name": "stdout",
          "text": [
            "Epoch 1/30\n",
            "56/56 [==============================] - 2s 23ms/step - loss: 1.5559 - accuracy: 0.4101 - val_loss: 1.4374 - val_accuracy: 0.5685\n",
            "Epoch 2/30\n",
            "56/56 [==============================] - 1s 21ms/step - loss: 1.1417 - accuracy: 0.7708 - val_loss: 0.8611 - val_accuracy: 0.8607\n",
            "Epoch 3/30\n",
            "56/56 [==============================] - 1s 21ms/step - loss: 0.5106 - accuracy: 0.9618 - val_loss: 0.3882 - val_accuracy: 0.9506\n",
            "Epoch 4/30\n",
            "56/56 [==============================] - 1s 20ms/step - loss: 0.1669 - accuracy: 0.9921 - val_loss: 0.2171 - val_accuracy: 0.9640\n",
            "Epoch 5/30\n",
            "56/56 [==============================] - 1s 20ms/step - loss: 0.0644 - accuracy: 0.9978 - val_loss: 0.1633 - val_accuracy: 0.9618\n",
            "Epoch 6/30\n",
            "56/56 [==============================] - 1s 20ms/step - loss: 0.0320 - accuracy: 0.9994 - val_loss: 0.1415 - val_accuracy: 0.9596\n",
            "Epoch 7/30\n",
            "56/56 [==============================] - 1s 22ms/step - loss: 0.0188 - accuracy: 1.0000 - val_loss: 0.1301 - val_accuracy: 0.9618\n",
            "Epoch 8/30\n",
            "56/56 [==============================] - 1s 21ms/step - loss: 0.0124 - accuracy: 1.0000 - val_loss: 0.1229 - val_accuracy: 0.9596\n",
            "Epoch 9/30\n",
            "56/56 [==============================] - 1s 21ms/step - loss: 0.0088 - accuracy: 1.0000 - val_loss: 0.1183 - val_accuracy: 0.9596\n",
            "Epoch 10/30\n",
            "56/56 [==============================] - 1s 20ms/step - loss: 0.0066 - accuracy: 1.0000 - val_loss: 0.1155 - val_accuracy: 0.9596\n",
            "Epoch 11/30\n",
            "56/56 [==============================] - 1s 21ms/step - loss: 0.0051 - accuracy: 1.0000 - val_loss: 0.1132 - val_accuracy: 0.9618\n",
            "Epoch 12/30\n",
            "56/56 [==============================] - 1s 20ms/step - loss: 0.0041 - accuracy: 1.0000 - val_loss: 0.1116 - val_accuracy: 0.9618\n",
            "Epoch 13/30\n",
            "56/56 [==============================] - 1s 21ms/step - loss: 0.0033 - accuracy: 1.0000 - val_loss: 0.1103 - val_accuracy: 0.9618\n",
            "Epoch 14/30\n",
            "56/56 [==============================] - 1s 21ms/step - loss: 0.0028 - accuracy: 1.0000 - val_loss: 0.1095 - val_accuracy: 0.9618\n",
            "Epoch 15/30\n",
            "56/56 [==============================] - 1s 21ms/step - loss: 0.0024 - accuracy: 1.0000 - val_loss: 0.1086 - val_accuracy: 0.9618\n",
            "Epoch 16/30\n",
            "56/56 [==============================] - 1s 20ms/step - loss: 0.0020 - accuracy: 1.0000 - val_loss: 0.1082 - val_accuracy: 0.9618\n",
            "Epoch 17/30\n",
            "56/56 [==============================] - 1s 21ms/step - loss: 0.0017 - accuracy: 1.0000 - val_loss: 0.1078 - val_accuracy: 0.9618\n",
            "Epoch 18/30\n",
            "56/56 [==============================] - 1s 21ms/step - loss: 0.0015 - accuracy: 1.0000 - val_loss: 0.1075 - val_accuracy: 0.9618\n",
            "Epoch 19/30\n",
            "56/56 [==============================] - 1s 21ms/step - loss: 0.0013 - accuracy: 1.0000 - val_loss: 0.1072 - val_accuracy: 0.9618\n",
            "Epoch 20/30\n",
            "56/56 [==============================] - 1s 21ms/step - loss: 0.0012 - accuracy: 1.0000 - val_loss: 0.1071 - val_accuracy: 0.9618\n",
            "Epoch 21/30\n",
            "56/56 [==============================] - 1s 21ms/step - loss: 0.0011 - accuracy: 1.0000 - val_loss: 0.1069 - val_accuracy: 0.9618\n",
            "Epoch 22/30\n",
            "56/56 [==============================] - 1s 21ms/step - loss: 9.5506e-04 - accuracy: 1.0000 - val_loss: 0.1068 - val_accuracy: 0.9618\n",
            "Epoch 23/30\n",
            "56/56 [==============================] - 1s 20ms/step - loss: 8.6103e-04 - accuracy: 1.0000 - val_loss: 0.1068 - val_accuracy: 0.9618\n",
            "Epoch 24/30\n",
            "56/56 [==============================] - 1s 20ms/step - loss: 7.8012e-04 - accuracy: 1.0000 - val_loss: 0.1069 - val_accuracy: 0.9640\n",
            "Epoch 25/30\n",
            "56/56 [==============================] - 1s 21ms/step - loss: 7.0976e-04 - accuracy: 1.0000 - val_loss: 0.1067 - val_accuracy: 0.9640\n",
            "Epoch 26/30\n",
            "56/56 [==============================] - 1s 21ms/step - loss: 6.4726e-04 - accuracy: 1.0000 - val_loss: 0.1069 - val_accuracy: 0.9640\n",
            "Epoch 27/30\n",
            "56/56 [==============================] - 1s 21ms/step - loss: 5.9344e-04 - accuracy: 1.0000 - val_loss: 0.1068 - val_accuracy: 0.9640\n",
            "Epoch 28/30\n",
            "56/56 [==============================] - 1s 21ms/step - loss: 5.4443e-04 - accuracy: 1.0000 - val_loss: 0.1070 - val_accuracy: 0.9640\n",
            "Epoch 29/30\n",
            "56/56 [==============================] - 1s 20ms/step - loss: 5.0098e-04 - accuracy: 1.0000 - val_loss: 0.1070 - val_accuracy: 0.9640\n",
            "Epoch 30/30\n",
            "56/56 [==============================] - 1s 21ms/step - loss: 4.6273e-04 - accuracy: 1.0000 - val_loss: 0.1071 - val_accuracy: 0.9640\n"
          ]
        }
      ]
    },
    {
      "cell_type": "code",
      "source": [
        "import matplotlib.pyplot as plt\n",
        "\n",
        "\n",
        "def plot_graphs(history, string):\n",
        "  plt.plot(history.history[string])\n",
        "  plt.plot(history.history['val_'+string])\n",
        "  plt.xlabel(\"Epochs\")\n",
        "  plt.ylabel(string)\n",
        "  plt.legend([string, 'val_'+string])\n",
        "  plt.show()\n",
        "\n",
        "plot_graphs(history, \"accuracy\")\n",
        "plot_graphs(history, \"loss\")"
      ],
      "metadata": {
        "colab": {
          "base_uri": "https://localhost:8080/",
          "height": 541
        },
        "id": "zB4kbSfb9fpc",
        "outputId": "fdeaa00c-023c-4434-fb0b-3d857f25e6e9"
      },
      "execution_count": 26,
      "outputs": [
        {
          "output_type": "display_data",
          "data": {
            "image/png": "[encoded data removed]",
            "text/plain": [
              "<Figure size 432x288 with 1 Axes>"
            ]
          },
          "metadata": {
            "needs_background": "light"
          }
        },
        {
          "output_type": "display_data",
          "data": {
            "image/png": "[encoded data removed]",
            "text/plain": [
              "<Figure size 432x288 with 1 Axes>"
            ]
          },
          "metadata": {
            "needs_background": "light"
          }
        }
      ]
    },
    {
      "cell_type": "code",
      "source": [
        "reverse_word_index = dict([(value, key) for (key, value) in word_index.items()])\n"
      ],
      "metadata": {
        "id": "H6J3IFVU-Lhl"
      },
      "execution_count": 27,
      "outputs": []
    },
    {
      "cell_type": "code",
      "source": [
        "e = model.layers[0]\n",
        "weights = e.get_weights()[0]\n",
        "print(weights)"
      ],
      "metadata": {
        "colab": {
          "base_uri": "https://localhost:8080/"
        },
        "id": "IgJxIOoa-OGo",
        "outputId": "eaf706f4-4aac-41fe-c334-485a216d9489"
      },
      "execution_count": 28,
      "outputs": [
        {
          "output_type": "stream",
          "name": "stdout",
          "text": [
            "[[ 0.04827429  0.11053801 -0.07824164 ... -0.06027026  0.00559979\n",
            "   0.00581085]\n",
            " [-0.00285435 -0.01971315  0.00041296 ...  0.00765764 -0.0497453\n",
            "  -0.02991735]\n",
            " [-0.09755986 -0.13628723 -0.08661238 ... -0.1326905   0.03239689\n",
            "  -0.16085318]\n",
            " ...\n",
            " [ 0.03712679 -0.01264701  0.02118385 ...  0.01304001  0.00842585\n",
            "   0.03866676]\n",
            " [-0.02398468 -0.02770779 -0.01306698 ...  0.01916304  0.04781172\n",
            "  -0.00849801]\n",
            " [ 0.01144506 -0.03270574 -0.00947078 ...  0.0389192   0.03426399\n",
            "  -0.06082116]]\n"
          ]
        }
      ]
    },
    {
      "cell_type": "markdown",
      "source": [
        "obtained 96.4% validation_accuracy"
      ],
      "metadata": {
        "id": "Z6ORak9y-W1B"
      }
    }
  ]
}