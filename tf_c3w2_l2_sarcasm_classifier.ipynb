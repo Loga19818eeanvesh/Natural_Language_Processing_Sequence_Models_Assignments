{
  "nbformat": 4,
  "nbformat_minor": 0,
  "metadata": {
    "colab": {
      "name": "tf_c3w2_l2_sarcasm_classifier.ipynb",
      "provenance": [],
      "authorship_tag": "ABX9TyPGRoMiMlIe92BxQ9LNLcj6",
      "include_colab_link": true
    },
    "kernelspec": {
      "name": "python3",
      "display_name": "Python 3"
    },
    "language_info": {
      "name": "python"
    }
  },
  "cells": [
    {
      "cell_type": "markdown",
      "metadata": {
        "id": "view-in-github",
        "colab_type": "text"
      },
      "source": [
        "<a href=\"https://colab.research.google.com/github/Loga19818eeanvesh/Natural_Language_Processing_Sequence_Models_Assignments/blob/main/tf_c3w2_l2_sarcasm_classifier.ipynb\" target=\"_parent\"><img src=\"https://colab.research.google.com/assets/colab-badge.svg\" alt=\"Open In Colab\"/></a>"
      ]
    },
    {
      "cell_type": "code",
      "execution_count": 1,
      "metadata": {
        "id": "ro6526ozeYlR"
      },
      "outputs": [],
      "source": [
        "import json\n",
        "import tensorflow as tf\n",
        "\n",
        "from tensorflow.keras.preprocessing.text import Tokenizer\n",
        "from tensorflow.keras.preprocessing.sequence import pad_sequences"
      ]
    },
    {
      "cell_type": "code",
      "source": [
        "vocab_size = 10000\n",
        "embedding_dim = 16\n",
        "max_length = 100\n",
        "trunc_type='post'\n",
        "padding_type='post'\n",
        "oov_tok = \"<UNK>\"\n",
        "training_size = 20000"
      ],
      "metadata": {
        "id": "Aywo-HBkqaAx"
      },
      "execution_count": 2,
      "outputs": []
    },
    {
      "cell_type": "code",
      "source": [
        "# sarcasm.json\n",
        "!gdown --id 1xRU3xY5-tkiPGvlz5xBJ18_pHWSRzI4v"
      ],
      "metadata": {
        "colab": {
          "base_uri": "https://localhost:8080/"
        },
        "id": "rItxhu9kqjYP",
        "outputId": "9782bb88-a637-4cd7-e0a4-150e873875b6"
      },
      "execution_count": 3,
      "outputs": [
        {
          "output_type": "stream",
          "name": "stdout",
          "text": [
            "Downloading...\n",
            "From: https://drive.google.com/uc?id=1xRU3xY5-tkiPGvlz5xBJ18_pHWSRzI4v\n",
            "To: /content/sarcasm.json\n",
            "100% 5.64M/5.64M [00:00<00:00, 26.0MB/s]\n"
          ]
        }
      ]
    },
    {
      "cell_type": "code",
      "source": [
        "with open(\"./sarcasm.json\", 'r') as f:\n",
        "    datastore = json.load(f)\n",
        "\n",
        "sentences = []\n",
        "labels = []\n",
        "\n",
        "for item in datastore:\n",
        "    sentences.append(item['headline'])\n",
        "    labels.append(item['is_sarcastic'])"
      ],
      "metadata": {
        "id": "UUt9CyYTqlxO"
      },
      "execution_count": 4,
      "outputs": []
    },
    {
      "cell_type": "code",
      "source": [
        "training_sentences = sentences[0:training_size]\n",
        "testing_sentences = sentences[training_size:]\n",
        "training_labels = labels[0:training_size]\n",
        "testing_labels = labels[training_size:]"
      ],
      "metadata": {
        "id": "_qxafVhXqtsa"
      },
      "execution_count": 5,
      "outputs": []
    },
    {
      "cell_type": "code",
      "source": [
        "tokenizer = Tokenizer(oov_token=oov_tok)\n",
        "tokenizer.fit_on_texts(training_sentences)\n",
        "\n",
        "word_index = tokenizer.word_index\n",
        "vocab_size = len(word_index)+1\n",
        "\n",
        "training_sequences = tokenizer.texts_to_sequences(training_sentences)\n",
        "training_padded = pad_sequences(training_sequences, maxlen=max_length, padding=padding_type, truncating=trunc_type)\n",
        "\n",
        "testing_sequences = tokenizer.texts_to_sequences(testing_sentences)\n",
        "testing_padded = pad_sequences(testing_sequences, maxlen=max_length, padding=padding_type, truncating=trunc_type)"
      ],
      "metadata": {
        "id": "weX9w2jCq270"
      },
      "execution_count": 11,
      "outputs": []
    },
    {
      "cell_type": "code",
      "source": [
        "# Need this block to get it to work with TensorFlow 2.x\n",
        "import numpy as np\n",
        "training_padded = np.array(training_padded)\n",
        "training_labels = np.array(training_labels)\n",
        "testing_padded = np.array(testing_padded)\n",
        "testing_labels = np.array(testing_labels)"
      ],
      "metadata": {
        "id": "Xn5hvUJdrQiX"
      },
      "execution_count": 12,
      "outputs": []
    },
    {
      "cell_type": "code",
      "source": [
        "model = tf.keras.Sequential([\n",
        "    tf.keras.layers.Embedding(vocab_size, embedding_dim, input_length=max_length),\n",
        "    tf.keras.layers.GlobalAveragePooling1D(),\n",
        "    tf.keras.layers.Dense(24, activation='relu'),\n",
        "    tf.keras.layers.Dense(1, activation='sigmoid')\n",
        "])\n",
        "model.compile(loss='binary_crossentropy',optimizer='adam',metrics=['accuracy'])"
      ],
      "metadata": {
        "id": "bSLL6D9Is3u2"
      },
      "execution_count": 13,
      "outputs": []
    },
    {
      "cell_type": "code",
      "source": [
        "model.summary()"
      ],
      "metadata": {
        "colab": {
          "base_uri": "https://localhost:8080/"
        },
        "id": "MVCe9-pIs6du",
        "outputId": "0eca9e66-4680-421d-a7c9-beb2e9429ff5"
      },
      "execution_count": 14,
      "outputs": [
        {
          "output_type": "stream",
          "name": "stdout",
          "text": [
            "Model: \"sequential_1\"\n",
            "_________________________________________________________________\n",
            " Layer (type)                Output Shape              Param #   \n",
            "=================================================================\n",
            " embedding_1 (Embedding)     (None, 100, 16)           410208    \n",
            "                                                                 \n",
            " global_average_pooling1d_1   (None, 16)               0         \n",
            " (GlobalAveragePooling1D)                                        \n",
            "                                                                 \n",
            " dense_2 (Dense)             (None, 24)                408       \n",
            "                                                                 \n",
            " dense_3 (Dense)             (None, 1)                 25        \n",
            "                                                                 \n",
            "=================================================================\n",
            "Total params: 410,641\n",
            "Trainable params: 410,641\n",
            "Non-trainable params: 0\n",
            "_________________________________________________________________\n"
          ]
        }
      ]
    },
    {
      "cell_type": "code",
      "source": [
        "num_epochs = 30\n",
        "history = model.fit(training_padded, training_labels, epochs=num_epochs, validation_data=(testing_padded, testing_labels), verbose=2)"
      ],
      "metadata": {
        "colab": {
          "base_uri": "https://localhost:8080/"
        },
        "id": "_45ihevwtGAY",
        "outputId": "dd5cc2f0-ead2-44c9-ab77-00d62caca579"
      },
      "execution_count": 15,
      "outputs": [
        {
          "output_type": "stream",
          "name": "stdout",
          "text": [
            "Epoch 1/30\n",
            "625/625 - 3s - loss: 0.6638 - accuracy: 0.5882 - val_loss: 0.5765 - val_accuracy: 0.7471 - 3s/epoch - 5ms/step\n",
            "Epoch 2/30\n",
            "625/625 - 3s - loss: 0.4273 - accuracy: 0.8400 - val_loss: 0.3852 - val_accuracy: 0.8410 - 3s/epoch - 5ms/step\n",
            "Epoch 3/30\n",
            "625/625 - 3s - loss: 0.2952 - accuracy: 0.8878 - val_loss: 0.3510 - val_accuracy: 0.8548 - 3s/epoch - 4ms/step\n",
            "Epoch 4/30\n",
            "625/625 - 3s - loss: 0.2322 - accuracy: 0.9147 - val_loss: 0.3388 - val_accuracy: 0.8596 - 3s/epoch - 4ms/step\n",
            "Epoch 5/30\n",
            "625/625 - 3s - loss: 0.1859 - accuracy: 0.9345 - val_loss: 0.3385 - val_accuracy: 0.8585 - 3s/epoch - 4ms/step\n",
            "Epoch 6/30\n",
            "625/625 - 3s - loss: 0.1497 - accuracy: 0.9498 - val_loss: 0.3463 - val_accuracy: 0.8605 - 3s/epoch - 4ms/step\n",
            "Epoch 7/30\n",
            "625/625 - 3s - loss: 0.1216 - accuracy: 0.9602 - val_loss: 0.3731 - val_accuracy: 0.8501 - 3s/epoch - 4ms/step\n",
            "Epoch 8/30\n",
            "625/625 - 3s - loss: 0.0979 - accuracy: 0.9709 - val_loss: 0.3785 - val_accuracy: 0.8548 - 3s/epoch - 5ms/step\n",
            "Epoch 9/30\n",
            "625/625 - 3s - loss: 0.0800 - accuracy: 0.9774 - val_loss: 0.4427 - val_accuracy: 0.8390 - 3s/epoch - 4ms/step\n",
            "Epoch 10/30\n",
            "625/625 - 3s - loss: 0.0649 - accuracy: 0.9823 - val_loss: 0.4417 - val_accuracy: 0.8454 - 3s/epoch - 5ms/step\n",
            "Epoch 11/30\n",
            "625/625 - 3s - loss: 0.0520 - accuracy: 0.9868 - val_loss: 0.4591 - val_accuracy: 0.8493 - 3s/epoch - 5ms/step\n",
            "Epoch 12/30\n",
            "625/625 - 3s - loss: 0.0419 - accuracy: 0.9902 - val_loss: 0.4745 - val_accuracy: 0.8472 - 3s/epoch - 5ms/step\n",
            "Epoch 13/30\n",
            "625/625 - 3s - loss: 0.0345 - accuracy: 0.9920 - val_loss: 0.5145 - val_accuracy: 0.8442 - 3s/epoch - 5ms/step\n",
            "Epoch 14/30\n",
            "625/625 - 3s - loss: 0.0274 - accuracy: 0.9947 - val_loss: 0.5382 - val_accuracy: 0.8407 - 3s/epoch - 5ms/step\n",
            "Epoch 15/30\n",
            "625/625 - 3s - loss: 0.0221 - accuracy: 0.9956 - val_loss: 0.5730 - val_accuracy: 0.8380 - 3s/epoch - 5ms/step\n",
            "Epoch 16/30\n",
            "625/625 - 3s - loss: 0.0174 - accuracy: 0.9969 - val_loss: 0.6259 - val_accuracy: 0.8384 - 3s/epoch - 5ms/step\n",
            "Epoch 17/30\n",
            "625/625 - 3s - loss: 0.0141 - accuracy: 0.9978 - val_loss: 0.6467 - val_accuracy: 0.8319 - 3s/epoch - 5ms/step\n",
            "Epoch 18/30\n",
            "625/625 - 3s - loss: 0.0114 - accuracy: 0.9980 - val_loss: 0.7117 - val_accuracy: 0.8340 - 3s/epoch - 5ms/step\n",
            "Epoch 19/30\n",
            "625/625 - 3s - loss: 0.0089 - accuracy: 0.9987 - val_loss: 0.7207 - val_accuracy: 0.8275 - 3s/epoch - 5ms/step\n",
            "Epoch 20/30\n",
            "625/625 - 3s - loss: 0.0071 - accuracy: 0.9992 - val_loss: 0.7641 - val_accuracy: 0.8271 - 3s/epoch - 5ms/step\n",
            "Epoch 21/30\n",
            "625/625 - 3s - loss: 0.0065 - accuracy: 0.9991 - val_loss: 0.8230 - val_accuracy: 0.8308 - 3s/epoch - 5ms/step\n",
            "Epoch 22/30\n",
            "625/625 - 3s - loss: 0.0046 - accuracy: 0.9994 - val_loss: 0.8792 - val_accuracy: 0.8271 - 3s/epoch - 5ms/step\n",
            "Epoch 23/30\n",
            "625/625 - 3s - loss: 0.0036 - accuracy: 0.9996 - val_loss: 0.9168 - val_accuracy: 0.8275 - 3s/epoch - 5ms/step\n",
            "Epoch 24/30\n",
            "625/625 - 3s - loss: 0.0031 - accuracy: 0.9995 - val_loss: 0.9376 - val_accuracy: 0.8265 - 3s/epoch - 5ms/step\n",
            "Epoch 25/30\n",
            "625/625 - 3s - loss: 0.0020 - accuracy: 0.9998 - val_loss: 0.9687 - val_accuracy: 0.8213 - 3s/epoch - 5ms/step\n",
            "Epoch 26/30\n",
            "625/625 - 3s - loss: 0.0016 - accuracy: 0.9999 - val_loss: 1.0076 - val_accuracy: 0.8217 - 3s/epoch - 5ms/step\n",
            "Epoch 27/30\n",
            "625/625 - 3s - loss: 0.0014 - accuracy: 0.9999 - val_loss: 1.0885 - val_accuracy: 0.8234 - 3s/epoch - 4ms/step\n",
            "Epoch 28/30\n",
            "625/625 - 3s - loss: 9.6840e-04 - accuracy: 0.9999 - val_loss: 1.1093 - val_accuracy: 0.8214 - 3s/epoch - 5ms/step\n",
            "Epoch 29/30\n",
            "625/625 - 3s - loss: 7.4809e-04 - accuracy: 1.0000 - val_loss: 1.1531 - val_accuracy: 0.8205 - 3s/epoch - 4ms/step\n",
            "Epoch 30/30\n",
            "625/625 - 3s - loss: 5.1638e-04 - accuracy: 1.0000 - val_loss: 1.2425 - val_accuracy: 0.8189 - 3s/epoch - 4ms/step\n"
          ]
        }
      ]
    },
    {
      "cell_type": "code",
      "source": [
        "import matplotlib.pyplot as plt\n",
        "\n",
        "\n",
        "def plot_graphs(history, string):\n",
        "  plt.plot(history.history[string])\n",
        "  plt.plot(history.history['val_'+string])\n",
        "  plt.xlabel(\"Epochs\")\n",
        "  plt.ylabel(string)\n",
        "  plt.legend([string, 'val_'+string])\n",
        "  plt.show()\n",
        "  \n",
        "plot_graphs(history, \"accuracy\")\n",
        "plot_graphs(history, \"loss\")"
      ],
      "metadata": {
        "colab": {
          "base_uri": "https://localhost:8080/",
          "height": 541
        },
        "id": "FT6O2E6JtyRv",
        "outputId": "551b350b-c219-45fb-c07b-47bacf376ade"
      },
      "execution_count": 16,
      "outputs": [
        {
          "output_type": "display_data",
          "data": {
            "image/png": "[encoded data removed]",
            "text/plain": [
              "<Figure size 432x288 with 1 Axes>"
            ]
          },
          "metadata": {
            "needs_background": "light"
          }
        },
        {
          "output_type": "display_data",
          "data": {
            "image/png": "[encoded data removed]",
            "text/plain": [
              "<Figure size 432x288 with 1 Axes>"
            ]
          },
          "metadata": {
            "needs_background": "light"
          }
        }
      ]
    },
    {
      "cell_type": "code",
      "source": [
        "reverse_word_index = dict([(value, key) for (key, value) in word_index.items()])"
      ],
      "metadata": {
        "id": "Qbz60kbOuDXF"
      },
      "execution_count": 17,
      "outputs": []
    },
    {
      "cell_type": "code",
      "source": [
        "e = model.layers[0]\n",
        "weights = e.get_weights()[0]\n",
        "print(weights) # shape: (vocab_size, embedding_dim)"
      ],
      "metadata": {
        "colab": {
          "base_uri": "https://localhost:8080/"
        },
        "id": "300G892euG_G",
        "outputId": "62199e1a-ef25-41f5-ee1c-908a511c7cbd"
      },
      "execution_count": 18,
      "outputs": [
        {
          "output_type": "stream",
          "name": "stdout",
          "text": [
            "[[ 0.00495189  0.01206761 -0.0279063  ...  0.04730662  0.05323131\n",
            "   0.09378419]\n",
            " [-0.02116849  0.0442165  -0.0327787  ...  0.02894128  0.03450615\n",
            "  -0.00865564]\n",
            " [-0.04173834 -0.13268085 -0.18199396 ...  0.11619437 -0.01404537\n",
            "  -0.02925771]\n",
            " ...\n",
            " [ 0.2288569   0.22813083  0.15270422 ... -0.1927913   0.14959252\n",
            "   0.06351419]\n",
            " [ 0.27036518  0.27763766  0.21187732 ... -0.18886845  0.24574259\n",
            "   0.23386267]\n",
            " [-0.25475085 -0.20596986 -0.19941653 ...  0.2147571  -0.20647542\n",
            "  -0.12891427]]\n"
          ]
        }
      ]
    },
    {
      "cell_type": "code",
      "source": [
        "sentence = [\"granny starting to fear spiders in the garden might be real\", \"game of thrones season finale showing this sunday night\"]\n",
        "sequences = tokenizer.texts_to_sequences(sentence)\n",
        "padded = pad_sequences(sequences, maxlen=max_length, padding=padding_type, truncating=trunc_type)\n",
        "print(model.predict(padded))"
      ],
      "metadata": {
        "colab": {
          "base_uri": "https://localhost:8080/"
        },
        "id": "3sekjeuHuNgh",
        "outputId": "56928bbd-d030-4a87-8a7a-d0277d3dfb5d"
      },
      "execution_count": 19,
      "outputs": [
        {
          "output_type": "stream",
          "name": "stdout",
          "text": [
            "[[8.211255e-01]\n",
            " [8.132237e-05]]\n"
          ]
        }
      ]
    }
  ]
}