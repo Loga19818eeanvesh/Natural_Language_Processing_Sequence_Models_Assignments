{
  "nbformat": 4,
  "nbformat_minor": 0,
  "metadata": {
    "colab": {
      "name": "tf_c3w3_l6_sarcasm_with_1D_convolutional.ipynb",
      "provenance": [],
      "authorship_tag": "ABX9TyPvI+MEBVouoklyUu2zQ7jO",
      "include_colab_link": true
    },
    "kernelspec": {
      "name": "python3",
      "display_name": "Python 3"
    },
    "language_info": {
      "name": "python"
    }
  },
  "cells": [
    {
      "cell_type": "markdown",
      "metadata": {
        "id": "view-in-github",
        "colab_type": "text"
      },
      "source": [
        "<a href=\"https://colab.research.google.com/github/Loga19818eeanvesh/Natural_Language_Processing_Sequence_Models_Assignments/blob/main/tf_c3w3_l6_sarcasm_with_1D_convolutional.ipynb\" target=\"_parent\"><img src=\"https://colab.research.google.com/assets/colab-badge.svg\" alt=\"Open In Colab\"/></a>"
      ]
    },
    {
      "cell_type": "code",
      "execution_count": 1,
      "metadata": {
        "colab": {
          "base_uri": "https://localhost:8080/"
        },
        "id": "7b-2jddBBo8b",
        "outputId": "a6856142-81b0-42da-de27-f7039ade79c2"
      },
      "outputs": [
        {
          "output_type": "stream",
          "name": "stdout",
          "text": [
            "Downloading...\n",
            "From: https://drive.google.com/uc?id=1xRU3xY5-tkiPGvlz5xBJ18_pHWSRzI4v\n",
            "To: /content/sarcasm.json\n",
            "100% 5.64M/5.64M [00:00<00:00, 24.0MB/s]\n"
          ]
        }
      ],
      "source": [
        "import numpy as np\n",
        "\n",
        "import json\n",
        "import tensorflow as tf\n",
        "\n",
        "from tensorflow.keras.preprocessing.text import Tokenizer\n",
        "from tensorflow.keras.preprocessing.sequence import pad_sequences\n",
        "\n",
        "# sarcasm.json\n",
        "!gdown --id 1xRU3xY5-tkiPGvlz5xBJ18_pHWSRzI4v\n",
        "\n",
        "vocab_size = 1000\n",
        "embedding_dim = 16\n",
        "max_length = 120\n",
        "trunc_type='post'\n",
        "padding_type='post'\n",
        "oov_tok = \"<OOV>\"\n",
        "training_size = 20000\n",
        "\n",
        "\n",
        "with open(\"./sarcasm.json\", 'r') as f:\n",
        "    datastore = json.load(f)\n",
        "\n",
        "\n",
        "sentences = []\n",
        "labels = []\n",
        "urls = []\n",
        "for item in datastore:\n",
        "    sentences.append(item['headline'])\n",
        "    labels.append(item['is_sarcastic'])\n",
        "\n",
        "training_sentences = sentences[0:training_size]\n",
        "testing_sentences = sentences[training_size:]\n",
        "training_labels = labels[0:training_size]\n",
        "testing_labels = labels[training_size:]\n",
        "\n",
        "tokenizer = Tokenizer(num_words=vocab_size, oov_token=oov_tok)\n",
        "tokenizer.fit_on_texts(training_sentences)\n",
        "\n",
        "word_index = tokenizer.word_index\n",
        "\n",
        "training_sequences = tokenizer.texts_to_sequences(training_sentences)\n",
        "training_padded = pad_sequences(training_sequences, maxlen=max_length, padding=padding_type, truncating=trunc_type)\n",
        "\n",
        "testing_sequences = tokenizer.texts_to_sequences(testing_sentences)\n",
        "testing_padded = pad_sequences(testing_sequences, maxlen=max_length, padding=padding_type, truncating=trunc_type)\n"
      ]
    },
    {
      "cell_type": "code",
      "source": [
        "model = tf.keras.Sequential([\n",
        "    tf.keras.layers.Embedding(vocab_size, embedding_dim, input_length=max_length),\n",
        "    tf.keras.layers.Conv1D(128, 5, activation='relu'),\n",
        "    tf.keras.layers.GlobalMaxPooling1D(),\n",
        "    tf.keras.layers.Dense(24, activation='relu'),\n",
        "    tf.keras.layers.Dense(1, activation='sigmoid')\n",
        "])\n",
        "model.compile(loss='binary_crossentropy',optimizer='adam',metrics=['accuracy'])\n",
        "model.summary()"
      ],
      "metadata": {
        "colab": {
          "base_uri": "https://localhost:8080/"
        },
        "id": "hM590DWmCEJk",
        "outputId": "8bfa979a-3afb-468d-c545-e15a18de58aa"
      },
      "execution_count": 2,
      "outputs": [
        {
          "output_type": "stream",
          "name": "stdout",
          "text": [
            "Model: \"sequential\"\n",
            "_________________________________________________________________\n",
            " Layer (type)                Output Shape              Param #   \n",
            "=================================================================\n",
            " embedding (Embedding)       (None, 120, 16)           16000     \n",
            "                                                                 \n",
            " conv1d (Conv1D)             (None, 116, 128)          10368     \n",
            "                                                                 \n",
            " global_max_pooling1d (Globa  (None, 128)              0         \n",
            " lMaxPooling1D)                                                  \n",
            "                                                                 \n",
            " dense (Dense)               (None, 24)                3096      \n",
            "                                                                 \n",
            " dense_1 (Dense)             (None, 1)                 25        \n",
            "                                                                 \n",
            "=================================================================\n",
            "Total params: 29,489\n",
            "Trainable params: 29,489\n",
            "Non-trainable params: 0\n",
            "_________________________________________________________________\n"
          ]
        }
      ]
    },
    {
      "cell_type": "code",
      "source": [
        "num_epochs = 20\n",
        "\n",
        "training_padded = np.array(training_padded)\n",
        "training_labels = np.array(training_labels)\n",
        "testing_padded = np.array(testing_padded)\n",
        "testing_labels = np.array(testing_labels)\n",
        "\n",
        "history = model.fit(training_padded, training_labels, epochs=num_epochs, validation_data=(testing_padded, testing_labels), verbose=1)"
      ],
      "metadata": {
        "colab": {
          "base_uri": "https://localhost:8080/"
        },
        "id": "_nY7OG-_COPx",
        "outputId": "784820b5-1734-4cc2-96a4-a64043f316fb"
      },
      "execution_count": 3,
      "outputs": [
        {
          "output_type": "stream",
          "name": "stdout",
          "text": [
            "Epoch 1/20\n",
            "625/625 [==============================] - 16s 23ms/step - loss: 0.4773 - accuracy: 0.7580 - val_loss: 0.4032 - val_accuracy: 0.8159\n",
            "Epoch 2/20\n",
            "625/625 [==============================] - 8s 12ms/step - loss: 0.3573 - accuracy: 0.8410 - val_loss: 0.3912 - val_accuracy: 0.8219\n",
            "Epoch 3/20\n",
            "625/625 [==============================] - 8s 12ms/step - loss: 0.3207 - accuracy: 0.8562 - val_loss: 0.3911 - val_accuracy: 0.8249\n",
            "Epoch 4/20\n",
            "625/625 [==============================] - 8s 12ms/step - loss: 0.2888 - accuracy: 0.8756 - val_loss: 0.4083 - val_accuracy: 0.8244\n",
            "Epoch 5/20\n",
            "625/625 [==============================] - 8s 12ms/step - loss: 0.2612 - accuracy: 0.8874 - val_loss: 0.4188 - val_accuracy: 0.8158\n",
            "Epoch 6/20\n",
            "625/625 [==============================] - 8s 12ms/step - loss: 0.2307 - accuracy: 0.9043 - val_loss: 0.4507 - val_accuracy: 0.8107\n",
            "Epoch 7/20\n",
            "625/625 [==============================] - 8s 12ms/step - loss: 0.1959 - accuracy: 0.9223 - val_loss: 0.5300 - val_accuracy: 0.7968\n",
            "Epoch 8/20\n",
            "625/625 [==============================] - 8s 12ms/step - loss: 0.1677 - accuracy: 0.9337 - val_loss: 0.5771 - val_accuracy: 0.8035\n",
            "Epoch 9/20\n",
            "625/625 [==============================] - 8s 12ms/step - loss: 0.1401 - accuracy: 0.9481 - val_loss: 0.6468 - val_accuracy: 0.7906\n",
            "Epoch 10/20\n",
            "625/625 [==============================] - 8s 12ms/step - loss: 0.1162 - accuracy: 0.9567 - val_loss: 0.7260 - val_accuracy: 0.7900\n",
            "Epoch 11/20\n",
            "625/625 [==============================] - 8s 12ms/step - loss: 0.0976 - accuracy: 0.9643 - val_loss: 0.8365 - val_accuracy: 0.7931\n",
            "Epoch 12/20\n",
            "625/625 [==============================] - 9s 14ms/step - loss: 0.0806 - accuracy: 0.9721 - val_loss: 0.8886 - val_accuracy: 0.7937\n",
            "Epoch 13/20\n",
            "625/625 [==============================] - 8s 12ms/step - loss: 0.0675 - accuracy: 0.9770 - val_loss: 0.9788 - val_accuracy: 0.7849\n",
            "Epoch 14/20\n",
            "625/625 [==============================] - 8s 12ms/step - loss: 0.0627 - accuracy: 0.9770 - val_loss: 1.0572 - val_accuracy: 0.7833\n",
            "Epoch 15/20\n",
            "625/625 [==============================] - 8s 12ms/step - loss: 0.0552 - accuracy: 0.9802 - val_loss: 1.1532 - val_accuracy: 0.7828\n",
            "Epoch 16/20\n",
            "625/625 [==============================] - 8s 13ms/step - loss: 0.0484 - accuracy: 0.9827 - val_loss: 1.2361 - val_accuracy: 0.7778\n",
            "Epoch 17/20\n",
            "625/625 [==============================] - 8s 13ms/step - loss: 0.0448 - accuracy: 0.9837 - val_loss: 1.3211 - val_accuracy: 0.7874\n",
            "Epoch 18/20\n",
            "625/625 [==============================] - 8s 13ms/step - loss: 0.0399 - accuracy: 0.9851 - val_loss: 1.4015 - val_accuracy: 0.7800\n",
            "Epoch 19/20\n",
            "625/625 [==============================] - 8s 13ms/step - loss: 0.0379 - accuracy: 0.9854 - val_loss: 1.4821 - val_accuracy: 0.7784\n",
            "Epoch 20/20\n",
            "625/625 [==============================] - 8s 12ms/step - loss: 0.0377 - accuracy: 0.9856 - val_loss: 1.5022 - val_accuracy: 0.7797\n"
          ]
        }
      ]
    },
    {
      "cell_type": "code",
      "source": [
        "import matplotlib.pyplot as plt\n",
        "\n",
        "\n",
        "def plot_graphs(history, string):\n",
        "  plt.plot(history.history[string])\n",
        "  plt.plot(history.history['val_'+string])\n",
        "  plt.xlabel(\"Epochs\")\n",
        "  plt.ylabel(string)\n",
        "  plt.legend([string, 'val_'+string])\n",
        "  plt.show()\n",
        "\n",
        "plot_graphs(history, 'accuracy')\n",
        "plot_graphs(history, 'loss')"
      ],
      "metadata": {
        "colab": {
          "base_uri": "https://localhost:8080/",
          "height": 541
        },
        "id": "_wneTKHsCQl_",
        "outputId": "105de627-d999-4b3b-cb22-a7de717c62e9"
      },
      "execution_count": 4,
      "outputs": [
        {
          "output_type": "display_data",
          "data": {
            "image/png": "[encoded data removed]",
            "text/plain": [
              "<Figure size 432x288 with 1 Axes>"
            ]
          },
          "metadata": {
            "needs_background": "light"
          }
        },
        {
          "output_type": "display_data",
          "data": {
            "image/png": "[encoded data removed]",
            "text/plain": [
              "<Figure size 432x288 with 1 Axes>"
            ]
          },
          "metadata": {
            "needs_background": "light"
          }
        }
      ]
    },
    {
      "cell_type": "code",
      "source": [
        "model.save(\"test.h5\")"
      ],
      "metadata": {
        "id": "So9G0EoMCSqx"
      },
      "execution_count": null,
      "outputs": []
    }
  ]
}